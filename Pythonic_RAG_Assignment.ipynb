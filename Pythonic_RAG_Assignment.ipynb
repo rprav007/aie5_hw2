{
  "cells": [
    {
      "cell_type": "markdown",
      "source": [
        "# Your First RAG Application\n",
        "\n",
        "In this notebook, we'll walk you through each of the components that are involved in a simple RAG application.\n",
        "\n",
        "We won't be leveraging any fancy tools, just the OpenAI Python SDK, Numpy, and some classic Python.\n",
        "\n",
        "> NOTE: This was done with Python 3.11.4.\n",
        "\n",
        "> NOTE: There might be [compatibility issues](https://github.com/wandb/wandb/issues/7683) if you're on NVIDIA driver >552.44 As an interim solution - you can rollback your drivers to the 552.44."
      ],
      "metadata": {
        "id": "lElF3o5PR6ys"
      }
    },
    {
      "cell_type": "markdown",
      "source": [
        "## Table of Contents:\n",
        "\n",
        "- Task 1: Imports and Utilities\n",
        "- Task 2: Documents\n",
        "- Task 3: Embeddings and Vectors\n",
        "- Task 4: Prompts\n",
        "- Task 5: Retrieval Augmented Generation\n",
        "  - 🚧 Activity #1: Augment RAG"
      ],
      "metadata": {
        "id": "5CtcL8P8R6yt"
      }
    },
    {
      "cell_type": "markdown",
      "source": [
        "Let's look at a rather complicated looking visual representation of a basic RAG application.\n",
        "\n",
        "<img src=\"https://i.imgur.com/vD8b016.png\" />"
      ],
      "metadata": {
        "id": "1Dz6GYilR6yt"
      }
    },
    {
      "cell_type": "markdown",
      "source": [
        "## Task 1: Imports and Utility\n",
        "\n",
        "We're just doing some imports and enabling `async` to work within the Jupyter environment here, nothing too crazy!"
      ],
      "metadata": {
        "id": "PjmC0KFtR6yt"
      }
    },
    {
      "cell_type": "code",
      "execution_count": 1,
      "source": [
        "from aimakerspace.text_utils import TextFileLoader, CharacterTextSplitter\n",
        "from aimakerspace.pdf_utils import PdfFileLoader, CharacterTextSplitter\n",
        "from aimakerspace.vectordatabase import VectorDatabase\n",
        "import asyncio"
      ],
      "outputs": [],
      "metadata": {
        "id": "Z1dyrG4hR6yt"
      }
    },
    {
      "cell_type": "code",
      "execution_count": 2,
      "source": [
        "import nest_asyncio\n",
        "nest_asyncio.apply()"
      ],
      "outputs": [],
      "metadata": {
        "id": "9OrFZRnER6yt"
      }
    },
    {
      "cell_type": "markdown",
      "source": [
        "## Task 2: Documents\n",
        "\n",
        "We'll be concerning ourselves with this part of the flow in the following section:\n",
        "\n",
        "<img src=\"https://i.imgur.com/jTm9gjk.png\" />"
      ],
      "metadata": {
        "id": "M0jGnpQsR6yu"
      }
    },
    {
      "cell_type": "markdown",
      "source": [
        "### Loading Source Documents\n",
        "\n",
        "So, first things first, we need some documents to work with.\n",
        "\n",
        "While we could work directly with the `.txt` or `.pdf` files (or whatever file-types you wanted to extend this to) we can instead do some batch processing of those documents at the beginning in order to store them in a more machine compatible format.\n",
        "\n",
        "In this case, we're going to parse our pdf file into a single document in memory.\n",
        "\n",
        "Let's look at the relevant bits of the `PdfFileLoader` class:\n",
        "\n",
        "```python\n",
        "def load_file(self):\n",
        "        with open(self.path, \"r\", encoding=self.encoding) as f:\n",
        "            self.documents.append(f.read())\n",
        "```\n",
        "\n",
        "We're simply loading the document using the built in `open` method, and storing that output in our `self.documents` list.\n"
      ],
      "metadata": {
        "id": "-SFPWvRUR6yu"
      }
    },
    {
      "cell_type": "code",
      "execution_count": 3,
      "source": [
        "pdf_loader = PdfFileLoader(\"data/cloud_computing.pdf\")\n",
        "documents = pdf_loader.load_documents()\n",
        "len(documents)"
      ],
      "outputs": [
        {
          "output_type": "execute_result",
          "data": {
            "text/plain": [
              "1"
            ]
          },
          "metadata": {},
          "execution_count": 3
        }
      ],
      "metadata": {
        "colab": {
          "base_uri": "https://localhost:8080/"
        },
        "id": "Ia2sUEuGR6yu",
        "outputId": "84937ecc-c35f-4c4a-a4ab-9da72625954c"
      }
    },
    {
      "cell_type": "code",
      "execution_count": 5,
      "source": [
        "print(documents[0][:200])"
      ],
      "outputs": [
        {
          "output_type": "stream",
          "name": "stdout",
          "text": [
            "Monitoring and Managing IoT Applications in\n",
            "Smart Cities Using Kubernetes\n",
            "Shapna Muralidharan\n",
            "Korea Institute of Science\n",
            "and Technology\n",
            "Seoul, South Korea\n",
            "Email: 023870@kist.re.kr\n",
            "Gyuwon Song\n",
            "Korea In\n"
          ]
        }
      ],
      "metadata": {
        "colab": {
          "base_uri": "https://localhost:8080/"
        },
        "id": "bV-tj5WFR6yu",
        "outputId": "674eb315-1ff3-4597-bcf5-38ece0a812ac"
      }
    },
    {
      "cell_type": "markdown",
      "source": [
        "### Splitting Text Into Chunks\n",
        "\n",
        "As we can see, there is one massive document.\n",
        "\n",
        "We'll want to chunk the document into smaller parts so it's easier to pass the most relevant snippets to the LLM.\n",
        "\n",
        "There is no fixed way to split/chunk documents - and you'll need to rely on some intuition as well as knowing your data *very* well in order to build the most robust system.\n",
        "\n",
        "For this toy example, we'll just split blindly on length.\n",
        "\n",
        ">There's an opportunity to clear up some terminology here, for this course we will be stick to the following:\n",
        ">\n",
        ">- \"source documents\" : The `.txt`, `.pdf`, `.html`, ..., files that make up the files and information we start with in its raw format\n",
        ">- \"document(s)\" : single (or more) text object(s)\n",
        ">- \"corpus\" : the combination of all of our documents"
      ],
      "metadata": {
        "id": "nHlTvCzYR6yu"
      }
    },
    {
      "cell_type": "markdown",
      "source": [
        "As you can imagine (though it's not specifically true in this toy example) the idea of splitting documents is to break them into managable sized chunks that retain the most relevant local context."
      ],
      "metadata": {
        "id": "2G6Voc0jR6yv"
      }
    },
    {
      "cell_type": "code",
      "execution_count": 7,
      "source": [
        "text_splitter = CharacterTextSplitter()\n",
        "split_documents = text_splitter.split_texts(documents)\n",
        "print(f\"Total Number of chuncks created = {len(split_documents)}\")"
      ],
      "outputs": [
        {
          "output_type": "stream",
          "name": "stdout",
          "text": [
            "Total Number of chuncks created = 37\n"
          ]
        }
      ],
      "metadata": {
        "colab": {
          "base_uri": "https://localhost:8080/"
        },
        "id": "UMC4tsEmR6yv",
        "outputId": "08689c0b-57cd-4040-942a-8193e997f5cb"
      }
    },
    {
      "cell_type": "markdown",
      "source": [
        "Let's take a look at some of the documents we've managed to split."
      ],
      "metadata": {
        "id": "W2wKT0WLR6yv"
      }
    },
    {
      "cell_type": "code",
      "execution_count": 19,
      "source": [
        "split_documents[0:5]"
      ],
      "outputs": [
        {
          "output_type": "execute_result",
          "data": {
            "text/plain": [
              "['Monitoring and Managing IoT Applications in\\nSmart Cities Using Kubernetes\\nShapna Muralidharan\\nKorea Institute of Science\\nand Technology\\nSeoul, South Korea\\nEmail: 023870@kist.re.kr\\nGyuwon Song\\nKorea Institute of Science\\nand Technology\\nSeoul, South Korea\\nEmail: gyuwon@kist.re.kr\\nHeedong Ko\\nKorea Institute of Science\\nand Technology\\nSeoul, South Korea\\nEmail: ko@kist.re.kr\\nAbstract—With the rapid urbanization, cities are transforming\\nto smart cities with core objectives to maintain a safe, healthy\\nand livable environment for the people. The current landscape\\nof smart cities are continuously evolving with unique challenges\\nand gaining ground with new technology-based solutions on the\\nInternet of Things (IoT) and cloud computing. The efﬁcient inte-\\ngration of IoT and cloud computing can tackle the unprecedented\\ngrowth of smart cities by supporting various smart services\\nlike healthcare, transportation systems, environment monitoring,\\nsmart grids, etc. Recent advances in cloud computing like\\nc',\n",
              " 'e unprecedented\\ngrowth of smart cities by supporting various smart services\\nlike healthcare, transportation systems, environment monitoring,\\nsmart grids, etc. Recent advances in cloud computing like\\ncontainerization of applications are promising solutions to host,\\nsupervise and reform the diverse IoT applications in smart cities.\\nIn this paper, we have explored the possibilities to implement a\\nsecure, distributed and reliable cloud-based monitoring system\\nfor IoT applications for effective management of a smart city\\nenvironment. We propose to build a container-based system\\nwith low latency, a reliable and secure communication among\\nlarge scale deployment of IoT devices with a strong focus on\\nhorizontal interoperability among various IoT applications. Our\\nexperiment with Docker-based containerization techniques along\\nwith a Kubernetes container orchestration platform emphasizes\\nan efﬁcient way to manage and monitor the status and events in\\nIoT applications in the scale of smart cities.\\n',\n",
              " 'nerization techniques along\\nwith a Kubernetes container orchestration platform emphasizes\\nan efﬁcient way to manage and monitor the status and events in\\nIoT applications in the scale of smart cities.\\nKeywords- Smart city; Internet of Things (IoT); Cloud\\ncomputing; Docker; Kubernetes; Interplanetary File System\\n(IPFS)\\nI. I NTRODUCTION\\nThe current trend indicates that the urban areas are ex-\\npanding massively, with predictions indicating 70% of the\\nworld’s population in cities by2020 [1]. Due to the anomalous\\nincrease in the urban population the standard quality of life\\nis deteriorating. The concept of smart cities is put forth\\nto improve the living standard in cities which is curbed\\nby challenges like environmental issues, air pollution, trafﬁc\\ncongestion, etc[2]. The countermeasures needed to tackle these\\nissues are overwhelming owing not only to the scale of the\\nsmart cities but also the heterogeneous technologies, devices\\nand the platforms involved in the development. Technologies\\nli',\n",
              " ' to tackle these\\nissues are overwhelming owing not only to the scale of the\\nsmart cities but also the heterogeneous technologies, devices\\nand the platforms involved in the development. Technologies\\nlike cloud computing and Internet of Things (IoT) envision the\\nlarge-scale development of smart cities. Various applications\\nlike smart healthcare, intelligent transportation, smart grids,\\nsmart homes, etc., deploy many connected IoT devices which\\nare distributed over a wide geographical area and perform\\nvarious activities with a massive volume of data generated\\nover a time period. IoT along with the cloud computing\\nSmart \\nIndustries Smart\\nhealthcareSmart \\nAgriculture\\nSmart\\nTransportation\\nSmart \\nBuildings\\nSmart \\nHomes Smart \\nGridsSmart Waste \\nDisposal\\nSmart \\nGovernance\\nFig. 1: A Smart City Scenario\\ntechnologies has made an impact on analyzing and processing\\nthe diverse data collected from various applications to be\\nuseful to the end users [3].\\nAlthough IoT is the key technology to keep the s',\n",
              " 'rio\\ntechnologies has made an impact on analyzing and processing\\nthe diverse data collected from various applications to be\\nuseful to the end users [3].\\nAlthough IoT is the key technology to keep the smart\\ncity connected, the predictions for connected IoT devices\\nin the future along with the traditional centralized cloud\\narchitecture might limit the horizontal development among the\\nvertically integrated smart cities. Figure 1 shows a smart city\\nscenario. The centralized cloud architecture is more vulnerable\\nto increasing network loads, low latency requirements, energy\\nissues and exposed to a single point of failure which does\\nnot suit delay-intolerant IoT applications [4][5]. To overcome\\nthese issues and to increase the efﬁciency of IoT applications\\nproposals to distribute cloud architecture with edge and fog\\ncomputing was introduced [6][7]. Further efforts to design\\nframeworks based on the concept of software-deﬁned net-\\nworked systems by virtualizing IoT nodes and resources were\\niniti']"
            ]
          },
          "metadata": {},
          "execution_count": 19
        }
      ],
      "metadata": {
        "colab": {
          "base_uri": "https://localhost:8080/"
        },
        "id": "vcYMwWJoR6yv",
        "outputId": "20d69876-feca-4826-b4be-32915276987a"
      }
    },
    {
      "cell_type": "markdown",
      "source": [
        "## Task 3: Embeddings and Vectors\n",
        "\n",
        "Next, we have to convert our corpus into a \"machine readable\" format as we explored in the Embedding Primer notebook.\n",
        "\n",
        "Today, we're going to talk about the actual process of creating, and then storing, these embeddings, and how we can leverage that to intelligently add context to our queries."
      ],
      "metadata": {
        "id": "HOU-RFP_R6yv"
      }
    },
    {
      "cell_type": "markdown",
      "source": [
        "### OpenAI API Key\n",
        "\n",
        "In order to access OpenAI's APIs, we'll need to provide our OpenAI API Key!\n",
        "\n",
        "You can work through the folder \"OpenAI API Key Setup\" for more information on this process if you don't already have an API Key!"
      ],
      "metadata": {}
    },
    {
      "cell_type": "code",
      "execution_count": 9,
      "source": [
        "import os\n",
        "import openai\n",
        "from getpass import getpass\n",
        "\n",
        "openai.api_key = getpass(\"OpenAI API Key: \")\n",
        "os.environ[\"OPENAI_API_KEY\"] = openai.api_key"
      ],
      "outputs": [],
      "metadata": {}
    },
    {
      "cell_type": "markdown",
      "source": [
        "### Vector Database\n",
        "\n",
        "Let's set up our vector database to hold all our documents and their embeddings!"
      ],
      "metadata": {}
    },
    {
      "cell_type": "markdown",
      "source": [
        "While this is all baked into 1 call - we can look at some of the code that powers this process to get a better understanding:\n",
        "\n",
        "Let's look at our `VectorDatabase().__init__()`:\n",
        "\n",
        "```python\n",
        "def __init__(self, embedding_model: EmbeddingModel = None):\n",
        "        self.vectors = defaultdict(np.array)\n",
        "        self.embedding_model = embedding_model or EmbeddingModel()\n",
        "```\n",
        "\n",
        "As you can see - our vectors are merely stored as a dictionary of `np.array` objects.\n",
        "\n",
        "Secondly, our `VectorDatabase()` has a default `EmbeddingModel()` which is a wrapper for OpenAI's `text-embedding-3-small` model.\n",
        "\n",
        "> **Quick Info About `text-embedding-3-small`**:\n",
        "> - It has a context window of **8191** tokens\n",
        "> - It returns vectors with dimension **1536**"
      ],
      "metadata": {
        "id": "kDQrfAR1R6yv"
      }
    },
    {
      "cell_type": "markdown",
      "source": [
        "#### ❓Question #1:\n",
        "\n",
        "The default embedding dimension of `text-embedding-3-small` is 1536, as noted above. \n",
        "\n",
        "1. Is there any way to modify this dimension?\n",
        "\n",
        "Yes therer is a way to modify this default dimension. We use the dimension parameter to define this value. This is especially useful if the vector store does not suppor the current dimension value, we can benefit by lowering the size. However, by reducing the dimension, we also compromise on the accuracy\n",
        "\n",
        "2. What technique does OpenAI use to achieve this?\n",
        "\n",
        "> NOTE: Check out this [API documentation](https://platform.openai.com/docs/api-reference/embeddings/create) for the answer to question #1, and [this documentation](https://platform.openai.com/docs/guides/embeddings/use-cases) for an answer to question #2!"
      ],
      "metadata": {
        "id": "L273pRdeR6yv"
      }
    },
    {
      "cell_type": "markdown",
      "source": [
        "We can call the `async_get_embeddings` method of our `EmbeddingModel()` on a list of `str` and receive a list of `float` back!\n",
        "\n",
        "```python\n",
        "async def async_get_embeddings(self, list_of_text: List[str]) -> List[List[float]]:\n",
        "        return await aget_embeddings(\n",
        "            list_of_text=list_of_text, engine=self.embeddings_model_name\n",
        "        )\n",
        "```"
      ],
      "metadata": {
        "id": "w5FZY7K3R6yv"
      }
    },
    {
      "cell_type": "markdown",
      "source": [
        "We cast those to `np.array` when we build our `VectorDatabase()`:\n",
        "\n",
        "```python\n",
        "async def abuild_from_list(self, list_of_text: List[str]) -> \"VectorDatabase\":\n",
        "        embeddings = await self.embedding_model.async_get_embeddings(list_of_text)\n",
        "        for text, embedding in zip(list_of_text, embeddings):\n",
        "            self.insert(text, np.array(embedding))\n",
        "        return self\n",
        "```\n",
        "\n",
        "And that's all we need to do!"
      ],
      "metadata": {
        "id": "cSct6X0aR6yv"
      }
    },
    {
      "cell_type": "code",
      "execution_count": 12,
      "source": [
        "vector_db = VectorDatabase()\n",
        "vector_db = asyncio.run(vector_db.abuild_from_list(split_documents))"
      ],
      "outputs": [],
      "metadata": {
        "id": "O4KoLbVDR6yv"
      }
    },
    {
      "cell_type": "markdown",
      "source": [
        "#### ❓Question #2:\n",
        "\n",
        "What are the benefits of using an `async` approach to collecting our embeddings?\n",
        "\n",
        "> NOTE: Determining the core difference between `async` and `sync` will be useful! If you get stuck - ask ChatGPT!"
      ],
      "metadata": {
        "id": "SSZwaGvpR6yv"
      }
    },
    {
      "cell_type": "markdown",
      "source": [
        "So, to review what we've done so far in natural language:\n",
        "\n",
        "1. We load source documents\n",
        "2. We split those source documents into smaller chunks (documents)\n",
        "3. We send each of those documents to the `text-embedding-3-small` OpenAI API endpoint\n",
        "4. We store each of the text representations with the vector representations as keys/values in a dictionary"
      ],
      "metadata": {
        "id": "nRBdIt-xR6yw"
      }
    },
    {
      "cell_type": "markdown",
      "source": [
        "### Semantic Similarity\n",
        "\n",
        "The next step is to be able to query our `VectorDatabase()` with a `str` and have it return to us vectors and text that is most relevant from our corpus.\n",
        "\n",
        "We're going to use the following process to achieve this in our toy example:\n",
        "\n",
        "1. We need to embed our query with the same `EmbeddingModel()` as we used to construct our `VectorDatabase()`\n",
        "2. We loop through every vector in our `VectorDatabase()` and use a distance measure to compare how related they are\n",
        "3. We return a list of the top `k` closest vectors, with their text representations\n",
        "\n",
        "There's some very heavy optimization that can be done at each of these steps - but let's just focus on the basic pattern in this notebook.\n",
        "\n",
        "> We are using [cosine similarity](https://www.engati.com/glossary/cosine-similarity) as a distance metric in this example - but there are many many distance metrics you could use - like [these](https://flavien-vidal.medium.com/similarity-distances-for-natural-language-processing-16f63cd5ba55)\n",
        "\n",
        "> We are using a rather inefficient way of calculating relative distance between the query vector and all other vectors - there are more advanced approaches that are much more efficient, like [ANN](https://towardsdatascience.com/comprehensive-guide-to-approximate-nearest-neighbors-algorithms-8b94f057d6b6)"
      ],
      "metadata": {
        "id": "4-vWANZyR6yw"
      }
    },
    {
      "cell_type": "code",
      "execution_count": 13,
      "source": [
        "vector_db.search_by_text(\"Why do we need hybrid cloud architecture?\", k=3)"
      ],
      "outputs": [
        {
          "output_type": "execute_result",
          "data": {
            "text/plain": [
              "[('e with edge and fog\\ncomputing was introduced [6][7]. Further efforts to design\\nframeworks based on the concept of software-deﬁned net-\\nworked systems by virtualizing IoT nodes and resources were\\ninitiated [8]. Though the distributed, hierarchical cloud archi-\\ntecture proved advantageous, it is challenging to implement\\na fully integrated approach in a hybrid smart city with its\\nlimitations.\\nTo overcome the challenges faced by the smart city envi-\\nronment due to its scale and the heterogeneity of applications\\nwe need a hybrid cloud architecture managing the micro-\\nlevel IoT applications. The current focus in cloud development\\nis shifting towards containers an alternative to virtualization\\ntechnique by changing the way the operations are carried\\nout. To tackle the critical characteristics of IoT systems on\\nits scale and data-centric nature containers make it easier to\\nbuild, deploy and maintain IoT applications even when IoT\\ndevices have limited resources to support operating systems.\\n1Co',\n",
              "  0.5533440657966028),\n",
              " ('rio\\ntechnologies has made an impact on analyzing and processing\\nthe diverse data collected from various applications to be\\nuseful to the end users [3].\\nAlthough IoT is the key technology to keep the smart\\ncity connected, the predictions for connected IoT devices\\nin the future along with the traditional centralized cloud\\narchitecture might limit the horizontal development among the\\nvertically integrated smart cities. Figure 1 shows a smart city\\nscenario. The centralized cloud architecture is more vulnerable\\nto increasing network loads, low latency requirements, energy\\nissues and exposed to a single point of failure which does\\nnot suit delay-intolerant IoT applications [4][5]. To overcome\\nthese issues and to increase the efﬁciency of IoT applications\\nproposals to distribute cloud architecture with edge and fog\\ncomputing was introduced [6][7]. Further efforts to design\\nframeworks based on the concept of software-deﬁned net-\\nworked systems by virtualizing IoT nodes and resources were\\niniti',\n",
              "  0.46456115832245426),\n",
              " ('ud-based framework.\\n• Flexibility: Providing ﬂexibility by containerization mak-\\ning the IoT nodes available and inter-operate horizontally.\\n• Monitoring: Efﬁcient monitoring is required to coordinate\\nthe IoT devices deployed in a distributed platform like\\nsmart cities.\\n• Security: Strong security measures are required to handle\\nthe data transactions among various applications.\\nThe aforementioned challenges and requirements need to be\\naddressed to facilitate an integrated smart city environment.\\nThe current shift in focus from virtualization to containeriza-\\ntion can overlook and satisfy the challenges and the require-\\nments in a smart city.\\nB. Related Work\\nThe rapid development in the concept of smart cities is\\ndemanding an upgrade in a wide array of domains like IoT\\nand cloud computing. The traditional centralized cloud-based\\narchitectures used by the IoT applications can cope with\\ntheir varying storage and computing resource requirements.\\nExisting works initially discussed the possi',\n",
              "  0.4351587696915785)]"
            ]
          },
          "metadata": {},
          "execution_count": 13
        }
      ],
      "metadata": {
        "colab": {
          "base_uri": "https://localhost:8080/"
        },
        "id": "76d96uavR6yw",
        "outputId": "bbfccc31-20a2-41c7-c14d-46554a43ed2d"
      }
    },
    {
      "cell_type": "markdown",
      "source": [
        "## Task 4: Prompts\n",
        "\n",
        "In the following section, we'll be looking at the role of prompts - and how they help us to guide our application in the right direction.\n",
        "\n",
        "In this notebook, we're going to rely on the idea of \"zero-shot in-context learning\".\n",
        "\n",
        "This is a lot of words to say: \"We will ask it to perform our desired task in the prompt, and provide no examples.\""
      ],
      "metadata": {
        "id": "TehsfIiKR6yw"
      }
    },
    {
      "cell_type": "markdown",
      "source": [
        "### XYZRolePrompt\n",
        "\n",
        "Before we do that, let's stop and think a bit about how OpenAI's chat models work.\n",
        "\n",
        "We know they have roles - as is indicated in the following API [documentation](https://platform.openai.com/docs/api-reference/chat/create#chat/create-messages)\n",
        "\n",
        "There are three roles, and they function as follows (taken directly from [OpenAI](https://platform.openai.com/docs/guides/gpt/chat-completions-api)):\n",
        "\n",
        "- `{\"role\" : \"system\"}` : The system message helps set the behavior of the assistant. For example, you can modify the personality of the assistant or provide specific instructions about how it should behave throughout the conversation. However note that the system message is optional and the model’s behavior without a system message is likely to be similar to using a generic message such as \"You are a helpful assistant.\"\n",
        "- `{\"role\" : \"user\"}` : The user messages provide requests or comments for the assistant to respond to.\n",
        "- `{\"role\" : \"assistant\"}` : Assistant messages store previous assistant responses, but can also be written by you to give examples of desired behavior.\n",
        "\n",
        "The main idea is this:\n",
        "\n",
        "1. You start with a system message that outlines how the LLM should respond, what kind of behaviours you can expect from it, and more\n",
        "2. Then, you can provide a few examples in the form of \"assistant\"/\"user\" pairs\n",
        "3. Then, you prompt the model with the true \"user\" message.\n",
        "\n",
        "In this example, we'll be forgoing the 2nd step for simplicities sake."
      ],
      "metadata": {
        "id": "yXpA0UveR6yw"
      }
    },
    {
      "cell_type": "markdown",
      "source": [
        "#### Utility Functions\n",
        "\n",
        "You'll notice that we're using some utility functions from the `aimakerspace` module - let's take a peek at these and see what they're doing!"
      ],
      "metadata": {
        "id": "gdZ2KWKSR6yw"
      }
    },
    {
      "cell_type": "markdown",
      "source": [
        "##### XYZRolePrompt"
      ],
      "metadata": {
        "id": "GFbeJDDsR6yw"
      }
    },
    {
      "cell_type": "markdown",
      "source": [
        "Here we have our `system`, `user`, and `assistant` role prompts.\n",
        "\n",
        "Let's take a peek at what they look like:\n",
        "\n",
        "```python\n",
        "class BasePrompt:\n",
        "    def __init__(self, prompt):\n",
        "        \"\"\"\n",
        "        Initializes the BasePrompt object with a prompt template.\n",
        "\n",
        "        :param prompt: A string that can contain placeholders within curly braces\n",
        "        \"\"\"\n",
        "        self.prompt = prompt\n",
        "        self._pattern = re.compile(r\"\\{([^}]+)\\}\")\n",
        "\n",
        "    def format_prompt(self, **kwargs):\n",
        "        \"\"\"\n",
        "        Formats the prompt string using the keyword arguments provided.\n",
        "\n",
        "        :param kwargs: The values to substitute into the prompt string\n",
        "        :return: The formatted prompt string\n",
        "        \"\"\"\n",
        "        matches = self._pattern.findall(self.prompt)\n",
        "        return self.prompt.format(**{match: kwargs.get(match, \"\") for match in matches})\n",
        "\n",
        "    def get_input_variables(self):\n",
        "        \"\"\"\n",
        "        Gets the list of input variable names from the prompt string.\n",
        "\n",
        "        :return: List of input variable names\n",
        "        \"\"\"\n",
        "        return self._pattern.findall(self.prompt)\n",
        "```\n",
        "\n",
        "Then we have our `RolePrompt` which laser focuses us on the role pattern found in most API endpoints for LLMs.\n",
        "\n",
        "```python\n",
        "class RolePrompt(BasePrompt):\n",
        "    def __init__(self, prompt, role: str):\n",
        "        \"\"\"\n",
        "        Initializes the RolePrompt object with a prompt template and a role.\n",
        "\n",
        "        :param prompt: A string that can contain placeholders within curly braces\n",
        "        :param role: The role for the message ('system', 'user', or 'assistant')\n",
        "        \"\"\"\n",
        "        super().__init__(prompt)\n",
        "        self.role = role\n",
        "\n",
        "    def create_message(self, **kwargs):\n",
        "        \"\"\"\n",
        "        Creates a message dictionary with a role and a formatted message.\n",
        "\n",
        "        :param kwargs: The values to substitute into the prompt string\n",
        "        :return: Dictionary containing the role and the formatted message\n",
        "        \"\"\"\n",
        "        return {\"role\": self.role, \"content\": self.format_prompt(**kwargs)}\n",
        "```\n",
        "\n",
        "We'll look at how the `SystemRolePrompt` is constructed to get a better idea of how that extension works:\n",
        "\n",
        "```python\n",
        "class SystemRolePrompt(RolePrompt):\n",
        "    def __init__(self, prompt: str):\n",
        "        super().__init__(prompt, \"system\")\n",
        "```\n",
        "\n",
        "That pattern is repeated for our `UserRolePrompt` and our `AssistantRolePrompt` as well."
      ],
      "metadata": {
        "id": "5mojJSE3R6yw"
      }
    },
    {
      "cell_type": "markdown",
      "source": [
        "##### ChatOpenAI"
      ],
      "metadata": {
        "id": "D361R6sMR6yw"
      }
    },
    {
      "cell_type": "markdown",
      "source": [
        "Next we have our model, which is converted to a format analagous to libraries like LangChain and LlamaIndex.\n",
        "\n",
        "Let's take a peek at how that is constructed:\n",
        "\n",
        "```python\n",
        "class ChatOpenAI:\n",
        "    def __init__(self, model_name: str = \"gpt-4o-mini\"):\n",
        "        self.model_name = model_name\n",
        "        self.openai_api_key = os.getenv(\"OPENAI_API_KEY\")\n",
        "        if self.openai_api_key is None:\n",
        "            raise ValueError(\"OPENAI_API_KEY is not set\")\n",
        "\n",
        "    def run(self, messages, text_only: bool = True):\n",
        "        if not isinstance(messages, list):\n",
        "            raise ValueError(\"messages must be a list\")\n",
        "\n",
        "        openai.api_key = self.openai_api_key\n",
        "        response = openai.ChatCompletion.create(\n",
        "            model=self.model_name, messages=messages\n",
        "        )\n",
        "\n",
        "        if text_only:\n",
        "            return response.choices[0].message.content\n",
        "\n",
        "        return response\n",
        "```"
      ],
      "metadata": {
        "id": "HJVQ2Pm8R6yw"
      }
    },
    {
      "cell_type": "markdown",
      "source": [
        "#### ❓ Question #3:\n",
        "\n",
        "When calling the OpenAI API - are there any ways we can achieve more reproducible outputs?\n",
        "\n",
        "> NOTE: Check out [this section](https://platform.openai.com/docs/guides/text-generation/) of the OpenAI documentation for the answer!"
      ],
      "metadata": {
        "id": "qCU7FfhIR6yw"
      }
    },
    {
      "cell_type": "markdown",
      "source": [
        "### Creating and Prompting OpenAI's `gpt-4o-mini`!\n",
        "\n",
        "Let's tie all these together and use it to prompt `gpt-4o-mini`!"
      ],
      "metadata": {
        "id": "c5wcjMLCR6yw"
      }
    },
    {
      "cell_type": "code",
      "execution_count": 14,
      "source": [
        "from aimakerspace.openai_utils.prompts import (\n",
        "    UserRolePrompt,\n",
        "    SystemRolePrompt,\n",
        "    AssistantRolePrompt,\n",
        ")\n",
        "\n",
        "from aimakerspace.openai_utils.chatmodel import ChatOpenAI\n",
        "\n",
        "chat_openai = ChatOpenAI()\n",
        "user_prompt_template = \"{content}\"\n",
        "user_role_prompt = UserRolePrompt(user_prompt_template)\n",
        "system_prompt_template = (\n",
        "    \"You are an expert in {expertise}, you always answer in a kind way.\"\n",
        ")\n",
        "system_role_prompt = SystemRolePrompt(system_prompt_template)\n",
        "\n",
        "messages = [\n",
        "    system_role_prompt.create_message(expertise=\"Python\"),\n",
        "    user_role_prompt.create_message(\n",
        "        content=\"What is the best way to write a loop?\"\n",
        "    ),\n",
        "]\n",
        "\n",
        "response = chat_openai.run(messages)"
      ],
      "outputs": [],
      "metadata": {
        "id": "WIfpIot7R6yw"
      }
    },
    {
      "cell_type": "code",
      "execution_count": 15,
      "source": [
        "print(response)"
      ],
      "outputs": [
        {
          "output_type": "stream",
          "name": "stdout",
          "text": [
            "When writing a loop in Python, the best approach often depends on the specific task you want to accomplish. However, here are some general tips to consider which can help you write clean and efficient loops:\n",
            "\n",
            "1. **Use `for` Loops for Iteration**: If you need to iterate over a sequence (like a list, tuple, or string), a `for` loop is typically the best choice. It is clean and concise.\n",
            "\n",
            "    ```python\n",
            "    my_list = [1, 2, 3, 4, 5]\n",
            "    for number in my_list:\n",
            "        print(number)\n",
            "    ```\n",
            "\n",
            "2. **Use `while` Loops for Conditional Repetition**: When you want a loop to continue until a specific condition is met, a `while` loop is appropriate.\n",
            "\n",
            "    ```python\n",
            "    count = 0\n",
            "    while count < 5:\n",
            "        print(count)\n",
            "        count += 1\n",
            "    ```\n",
            "\n",
            "3. **Avoid Modifying the Loop Variable**: If you’re iterating over a collection, avoid modifying the collection while iterating over it to prevent unexpected behavior.\n",
            "\n",
            "4. **Use `enumerate()` for Indexes**: When you need both the index and value of items in a list, using `enumerate()` can make your code cleaner and more Pythonic.\n",
            "\n",
            "    ```python\n",
            "    my_list = ['a', 'b', 'c']\n",
            "    for index, value in enumerate(my_list):\n",
            "        print(index, value)\n",
            "    ```\n",
            "\n",
            "5. **Keep Your Loops Simple**: If your loop is doing many things, consider breaking it into smaller functions. This improves readability and maintainability.\n",
            "\n",
            "6. **Use List Comprehensions for Simple Cases**: If you’re creating a new list based on an existing one, consider using list comprehensions for concise code.\n",
            "\n",
            "    ```python\n",
            "    squares = [x**2 for x in range(10)]\n",
            "    ```\n",
            "\n",
            "7. **Consider Using `break` and `continue`**: If you need to stop a loop early or skip an iteration, `break` and `continue` can be helpful. Just use them judiciously to keep your code readable.\n",
            "\n",
            "Use these guidelines to choose the appropriate type of loop and method for your specific needs. Happy coding!\n"
          ]
        }
      ],
      "metadata": {
        "colab": {
          "base_uri": "https://localhost:8080/"
        },
        "id": "dHo7lssNR6yw",
        "outputId": "1d3823fa-bb6b-45f6-ddba-b41686388324"
      }
    },
    {
      "cell_type": "markdown",
      "source": [
        "## Task 5: Retrieval Augmented Generation\n",
        "\n",
        "Now we can create a RAG prompt - which will help our system behave in a way that makes sense!\n",
        "\n",
        "There is much you could do here, many tweaks and improvements to be made!"
      ],
      "metadata": {
        "id": "r2nxxhB2R6yy"
      }
    },
    {
      "cell_type": "code",
      "execution_count": 16,
      "source": [
        "RAG_PROMPT_TEMPLATE = \"\"\" \\\n",
        "Use the provided context to answer the user's query.\n",
        "\n",
        "You may not answer the user's query unless there is specific context in the following text.\n",
        "\n",
        "If you do not know the answer, or cannot answer, please respond with \"I don't know\".\n",
        "\"\"\"\n",
        "\n",
        "rag_prompt = SystemRolePrompt(RAG_PROMPT_TEMPLATE)\n",
        "\n",
        "USER_PROMPT_TEMPLATE = \"\"\" \\\n",
        "Context:\n",
        "{context}\n",
        "\n",
        "User Query:\n",
        "{user_query}\n",
        "\"\"\"\n",
        "\n",
        "\n",
        "user_prompt = UserRolePrompt(USER_PROMPT_TEMPLATE)\n",
        "\n",
        "class RetrievalAugmentedQAPipeline:\n",
        "    def __init__(self, llm: ChatOpenAI(), vector_db_retriever: VectorDatabase) -> None:\n",
        "        self.llm = llm\n",
        "        self.vector_db_retriever = vector_db_retriever\n",
        "\n",
        "    def run_pipeline(self, user_query: str) -> str:\n",
        "        context_list = self.vector_db_retriever.search_by_text(user_query, k=4)\n",
        "\n",
        "        context_prompt = \"\"\n",
        "        for context in context_list:\n",
        "            context_prompt += context[0] + \"\\n\"\n",
        "\n",
        "        formatted_system_prompt = rag_prompt.create_message()\n",
        "\n",
        "        formatted_user_prompt = user_prompt.create_message(user_query=user_query, context=context_prompt)\n",
        "\n",
        "        return {\"response\" : self.llm.run([formatted_system_prompt, formatted_user_prompt]), \"context\" : context_list}"
      ],
      "outputs": [],
      "metadata": {
        "id": "D1hamzGaR6yy"
      }
    },
    {
      "cell_type": "markdown",
      "source": [
        "#### ❓ Question #4:\n",
        "\n",
        "What prompting strategies could you use to make the LLM have a more thoughtful, detailed response?\n",
        "\n",
        "What is that strategy called?\n",
        "\n",
        "> NOTE: You can look through the Week 1 Day 1 \"Prompting OpenAI Like A Developer\" material for an answer to this question!"
      ],
      "metadata": {
        "id": "zZIJI19uR6yz"
      }
    },
    {
      "cell_type": "code",
      "execution_count": 17,
      "source": [
        "retrieval_augmented_qa_pipeline = RetrievalAugmentedQAPipeline(\n",
        "    vector_db_retriever=vector_db,\n",
        "    llm=chat_openai\n",
        ")"
      ],
      "outputs": [],
      "metadata": {
        "id": "kqbE9fZ6R6yz"
      }
    },
    {
      "cell_type": "code",
      "execution_count": 18,
      "source": [
        "retrieval_augmented_qa_pipeline.run_pipeline(\"Why do we need hybrid cloud architecture?\")"
      ],
      "outputs": [
        {
          "output_type": "execute_result",
          "data": {
            "text/plain": [
              "{'response': 'We need hybrid cloud architecture to overcome the challenges faced by the smart city environment due to its scale and the heterogeneity of applications. A hybrid cloud architecture manages micro-level IoT applications more effectively than a traditional centralized cloud architecture, which is vulnerable to increasing network loads, low latency requirements, energy issues, and a single point of failure. By distributing the cloud architecture and utilizing edge and fog computing, we can enhance the efficiency of IoT applications, improve reliability, scalability, flexibility, and meet the critical characteristics of IoT systems.',\n",
              " 'context': [('e with edge and fog\\ncomputing was introduced [6][7]. Further efforts to design\\nframeworks based on the concept of software-deﬁned net-\\nworked systems by virtualizing IoT nodes and resources were\\ninitiated [8]. Though the distributed, hierarchical cloud archi-\\ntecture proved advantageous, it is challenging to implement\\na fully integrated approach in a hybrid smart city with its\\nlimitations.\\nTo overcome the challenges faced by the smart city envi-\\nronment due to its scale and the heterogeneity of applications\\nwe need a hybrid cloud architecture managing the micro-\\nlevel IoT applications. The current focus in cloud development\\nis shifting towards containers an alternative to virtualization\\ntechnique by changing the way the operations are carried\\nout. To tackle the critical characteristics of IoT systems on\\nits scale and data-centric nature containers make it easier to\\nbuild, deploy and maintain IoT applications even when IoT\\ndevices have limited resources to support operating systems.\\n1Co',\n",
              "   0.5533440657966028),\n",
              "  ('rio\\ntechnologies has made an impact on analyzing and processing\\nthe diverse data collected from various applications to be\\nuseful to the end users [3].\\nAlthough IoT is the key technology to keep the smart\\ncity connected, the predictions for connected IoT devices\\nin the future along with the traditional centralized cloud\\narchitecture might limit the horizontal development among the\\nvertically integrated smart cities. Figure 1 shows a smart city\\nscenario. The centralized cloud architecture is more vulnerable\\nto increasing network loads, low latency requirements, energy\\nissues and exposed to a single point of failure which does\\nnot suit delay-intolerant IoT applications [4][5]. To overcome\\nthese issues and to increase the efﬁciency of IoT applications\\nproposals to distribute cloud architecture with edge and fog\\ncomputing was introduced [6][7]. Further efforts to design\\nframeworks based on the concept of software-deﬁned net-\\nworked systems by virtualizing IoT nodes and resources were\\niniti',\n",
              "   0.46456115832245426),\n",
              "  ('ud-based framework.\\n• Flexibility: Providing ﬂexibility by containerization mak-\\ning the IoT nodes available and inter-operate horizontally.\\n• Monitoring: Efﬁcient monitoring is required to coordinate\\nthe IoT devices deployed in a distributed platform like\\nsmart cities.\\n• Security: Strong security measures are required to handle\\nthe data transactions among various applications.\\nThe aforementioned challenges and requirements need to be\\naddressed to facilitate an integrated smart city environment.\\nThe current shift in focus from virtualization to containeriza-\\ntion can overlook and satisfy the challenges and the require-\\nments in a smart city.\\nB. Related Work\\nThe rapid development in the concept of smart cities is\\ndemanding an upgrade in a wide array of domains like IoT\\nand cloud computing. The traditional centralized cloud-based\\narchitectures used by the IoT applications can cope with\\ntheir varying storage and computing resource requirements.\\nExisting works initially discussed the possi',\n",
              "   0.4351587696915785),\n",
              "  ('s arise from developing a\\nsmart city which include interoperability, providing efﬁcient\\ndata management mechanisms and seamless integration of the\\ninfrastructure [9]. The essential features to develop IoT-Cloud\\nbased smart city include:\\n• Reliability: IoT devices present a range of sleep pat-\\nterns and uncertainties in network connectivity can make\\nsensitive data unavailable when needed. It is a foremost\\nconcern in safety-critical applications like healthcare.\\n• Scalability: Billions of connected devices are forecast,\\nmaking it challenging to scale while ensuring its reliable\\ndata delivery.\\n• Latency: Managing latency values for delay-intolerant\\napplications like healthcare, smart grids, demanding P2P\\nscalability, avoiding the single point of failure by moving\\naway from the centralized cloud-based framework.\\n• Flexibility: Providing ﬂexibility by containerization mak-\\ning the IoT nodes available and inter-operate horizontally.\\n• Monitoring: Efﬁcient monitoring is required to coordinate',\n",
              "   0.43220787547124606)]}"
            ]
          },
          "metadata": {},
          "execution_count": 18
        }
      ],
      "metadata": {
        "colab": {
          "base_uri": "https://localhost:8080/"
        },
        "id": "jAGhaCGOR6yz",
        "outputId": "e4fb3a1b-d2bc-4e18-ec31-dc0adf767163"
      }
    },
    {
      "cell_type": "markdown",
      "source": [
        "### 🏗️ Activity #1:\n",
        "\n",
        "Enhance your RAG application in some way! \n",
        "\n",
        "Suggestions are: \n",
        "\n",
        "- Allow it to work with PDF files\n",
        "- Implement a new distance metric\n",
        "- Add metadata support to the vector database\n",
        "\n",
        "While these are suggestions, you should feel free to make whatever augmentations you desire! \n",
        "\n",
        "> NOTE: These additions might require you to work within the `aimakerspace` library - that's expected!"
      ],
      "metadata": {}
    },
    {
      "cell_type": "code",
      "execution_count": null,
      "source": [
        "### YOUR CODE HERE"
      ],
      "outputs": [],
      "metadata": {}
    }
  ],
  "metadata": {
    "colab": {
      "provenance": []
    },
    "kernelspec": {
      "name": "python3",
      "display_name": "Python 3.11.4 64-bit"
    },
    "language_info": {
      "codemirror_mode": {
        "name": "ipython",
        "version": 3
      },
      "file_extension": ".py",
      "mimetype": "text/x-python",
      "name": "python",
      "nbconvert_exporter": "python",
      "pygments_lexer": "ipython3",
      "version": "3.11.4"
    },
    "orig_nbformat": 4,
    "widgets": {
      "application/vnd.jupyter.widget-state+json": {
        "1ce393d9afcf427d9d352259c5d32678": {
          "model_module": "@jupyter-widgets/controls",
          "model_module_version": "1.5.0",
          "model_name": "FloatProgressModel",
          "state": {
            "_dom_classes": [],
            "_model_module": "@jupyter-widgets/controls",
            "_model_module_version": "1.5.0",
            "_model_name": "FloatProgressModel",
            "_view_count": null,
            "_view_module": "@jupyter-widgets/controls",
            "_view_module_version": "1.5.0",
            "_view_name": "ProgressView",
            "bar_style": "",
            "description": "",
            "description_tooltip": null,
            "layout": "IPY_MODEL_4e6efd99f7d346e485b002fb0fa85cc7",
            "max": 1,
            "min": 0,
            "orientation": "horizontal",
            "style": "IPY_MODEL_3dfb67c39958461da6071e4c19c3fa41",
            "value": 1
          }
        },
        "3a4ba348cb004f8ab7b2b1395539c81b": {
          "model_module": "@jupyter-widgets/controls",
          "model_module_version": "1.5.0",
          "model_name": "LabelModel",
          "state": {
            "_dom_classes": [],
            "_model_module": "@jupyter-widgets/controls",
            "_model_module_version": "1.5.0",
            "_model_name": "LabelModel",
            "_view_count": null,
            "_view_module": "@jupyter-widgets/controls",
            "_view_module_version": "1.5.0",
            "_view_name": "LabelView",
            "description": "",
            "description_tooltip": null,
            "layout": "IPY_MODEL_d2ea5009dd16442cb5d8a0ac468e50a8",
            "placeholder": "​",
            "style": "IPY_MODEL_5f00135fe1044051a50ee5e841cbb8e3",
            "value": "0.018 MB of 0.018 MB uploaded\r"
          }
        },
        "3dfb67c39958461da6071e4c19c3fa41": {
          "model_module": "@jupyter-widgets/controls",
          "model_module_version": "1.5.0",
          "model_name": "ProgressStyleModel",
          "state": {
            "_model_module": "@jupyter-widgets/controls",
            "_model_module_version": "1.5.0",
            "_model_name": "ProgressStyleModel",
            "_view_count": null,
            "_view_module": "@jupyter-widgets/base",
            "_view_module_version": "1.2.0",
            "_view_name": "StyleView",
            "bar_color": null,
            "description_width": ""
          }
        },
        "4e6efd99f7d346e485b002fb0fa85cc7": {
          "model_module": "@jupyter-widgets/base",
          "model_module_version": "1.2.0",
          "model_name": "LayoutModel",
          "state": {
            "_model_module": "@jupyter-widgets/base",
            "_model_module_version": "1.2.0",
            "_model_name": "LayoutModel",
            "_view_count": null,
            "_view_module": "@jupyter-widgets/base",
            "_view_module_version": "1.2.0",
            "_view_name": "LayoutView",
            "align_content": null,
            "align_items": null,
            "align_self": null,
            "border": null,
            "bottom": null,
            "display": null,
            "flex": null,
            "flex_flow": null,
            "grid_area": null,
            "grid_auto_columns": null,
            "grid_auto_flow": null,
            "grid_auto_rows": null,
            "grid_column": null,
            "grid_gap": null,
            "grid_row": null,
            "grid_template_areas": null,
            "grid_template_columns": null,
            "grid_template_rows": null,
            "height": null,
            "justify_content": null,
            "justify_items": null,
            "left": null,
            "margin": null,
            "max_height": null,
            "max_width": null,
            "min_height": null,
            "min_width": null,
            "object_fit": null,
            "object_position": null,
            "order": null,
            "overflow": null,
            "overflow_x": null,
            "overflow_y": null,
            "padding": null,
            "right": null,
            "top": null,
            "visibility": null,
            "width": null
          }
        },
        "56a8e24025594e5e9ff3b8581c344691": {
          "model_module": "@jupyter-widgets/base",
          "model_module_version": "1.2.0",
          "model_name": "LayoutModel",
          "state": {
            "_model_module": "@jupyter-widgets/base",
            "_model_module_version": "1.2.0",
            "_model_name": "LayoutModel",
            "_view_count": null,
            "_view_module": "@jupyter-widgets/base",
            "_view_module_version": "1.2.0",
            "_view_name": "LayoutView",
            "align_content": null,
            "align_items": null,
            "align_self": null,
            "border": null,
            "bottom": null,
            "display": null,
            "flex": null,
            "flex_flow": null,
            "grid_area": null,
            "grid_auto_columns": null,
            "grid_auto_flow": null,
            "grid_auto_rows": null,
            "grid_column": null,
            "grid_gap": null,
            "grid_row": null,
            "grid_template_areas": null,
            "grid_template_columns": null,
            "grid_template_rows": null,
            "height": null,
            "justify_content": null,
            "justify_items": null,
            "left": null,
            "margin": null,
            "max_height": null,
            "max_width": null,
            "min_height": null,
            "min_width": null,
            "object_fit": null,
            "object_position": null,
            "order": null,
            "overflow": null,
            "overflow_x": null,
            "overflow_y": null,
            "padding": null,
            "right": null,
            "top": null,
            "visibility": null,
            "width": null
          }
        },
        "5f00135fe1044051a50ee5e841cbb8e3": {
          "model_module": "@jupyter-widgets/controls",
          "model_module_version": "1.5.0",
          "model_name": "DescriptionStyleModel",
          "state": {
            "_model_module": "@jupyter-widgets/controls",
            "_model_module_version": "1.5.0",
            "_model_name": "DescriptionStyleModel",
            "_view_count": null,
            "_view_module": "@jupyter-widgets/base",
            "_view_module_version": "1.2.0",
            "_view_name": "StyleView",
            "description_width": ""
          }
        },
        "bb904e05ece143c79ecc4f20de482f45": {
          "model_module": "@jupyter-widgets/controls",
          "model_module_version": "1.5.0",
          "model_name": "VBoxModel",
          "state": {
            "_dom_classes": [],
            "_model_module": "@jupyter-widgets/controls",
            "_model_module_version": "1.5.0",
            "_model_name": "VBoxModel",
            "_view_count": null,
            "_view_module": "@jupyter-widgets/controls",
            "_view_module_version": "1.5.0",
            "_view_name": "VBoxView",
            "box_style": "",
            "children": [
              "IPY_MODEL_3a4ba348cb004f8ab7b2b1395539c81b",
              "IPY_MODEL_1ce393d9afcf427d9d352259c5d32678"
            ],
            "layout": "IPY_MODEL_56a8e24025594e5e9ff3b8581c344691"
          }
        },
        "d2ea5009dd16442cb5d8a0ac468e50a8": {
          "model_module": "@jupyter-widgets/base",
          "model_module_version": "1.2.0",
          "model_name": "LayoutModel",
          "state": {
            "_model_module": "@jupyter-widgets/base",
            "_model_module_version": "1.2.0",
            "_model_name": "LayoutModel",
            "_view_count": null,
            "_view_module": "@jupyter-widgets/base",
            "_view_module_version": "1.2.0",
            "_view_name": "LayoutView",
            "align_content": null,
            "align_items": null,
            "align_self": null,
            "border": null,
            "bottom": null,
            "display": null,
            "flex": null,
            "flex_flow": null,
            "grid_area": null,
            "grid_auto_columns": null,
            "grid_auto_flow": null,
            "grid_auto_rows": null,
            "grid_column": null,
            "grid_gap": null,
            "grid_row": null,
            "grid_template_areas": null,
            "grid_template_columns": null,
            "grid_template_rows": null,
            "height": null,
            "justify_content": null,
            "justify_items": null,
            "left": null,
            "margin": null,
            "max_height": null,
            "max_width": null,
            "min_height": null,
            "min_width": null,
            "object_fit": null,
            "object_position": null,
            "order": null,
            "overflow": null,
            "overflow_x": null,
            "overflow_y": null,
            "padding": null,
            "right": null,
            "top": null,
            "visibility": null,
            "width": null
          }
        }
      }
    },
    "interpreter": {
      "hash": "20e40d8fc09a6690434ad602c7eb2d8de15d36ec466bfbfb0de97c7c540d7363"
    }
  },
  "nbformat": 4,
  "nbformat_minor": 2
}